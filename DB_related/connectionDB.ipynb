{
 "metadata": {
  "language_info": {
   "codemirror_mode": {
    "name": "ipython",
    "version": 3
   },
   "file_extension": ".py",
   "mimetype": "text/x-python",
   "name": "python",
   "nbconvert_exporter": "python",
   "pygments_lexer": "ipython3",
   "version": "3.7.10"
  },
  "orig_nbformat": 2,
  "kernelspec": {
   "name": "python3710jvsc74a57bd0ce7dfee743cdef4a498cfcc01892c7ac99899179c7ea3ece4c5e77813d7a050d",
   "display_name": "Python 3.7.10 64-bit ('softwareEngineering': conda)"
  },
  "metadata": {
   "interpreter": {
    "hash": "ce7dfee743cdef4a498cfcc01892c7ac99899179c7ea3ece4c5e77813d7a050d"
   }
  }
 },
 "nbformat": 4,
 "nbformat_minor": 2,
 "cells": [
  {
   "cell_type": "code",
   "execution_count": 20,
   "metadata": {},
   "outputs": [],
   "source": [
    "import pandas as pd\n"
   ]
  },
  {
   "cell_type": "code",
   "execution_count": 21,
   "metadata": {},
   "outputs": [
    {
     "output_type": "execute_result",
     "data": {
      "text/plain": [
       "  UserID  Balance\n",
       "0      a     1000\n",
       "1      b      500\n",
       "2      c      400\n",
       "3      d      200\n",
       "4      e      700"
      ],
      "text/html": "<div>\n<style scoped>\n    .dataframe tbody tr th:only-of-type {\n        vertical-align: middle;\n    }\n\n    .dataframe tbody tr th {\n        vertical-align: top;\n    }\n\n    .dataframe thead th {\n        text-align: right;\n    }\n</style>\n<table border=\"1\" class=\"dataframe\">\n  <thead>\n    <tr style=\"text-align: right;\">\n      <th></th>\n      <th>UserID</th>\n      <th>Balance</th>\n    </tr>\n  </thead>\n  <tbody>\n    <tr>\n      <th>0</th>\n      <td>a</td>\n      <td>1000</td>\n    </tr>\n    <tr>\n      <th>1</th>\n      <td>b</td>\n      <td>500</td>\n    </tr>\n    <tr>\n      <th>2</th>\n      <td>c</td>\n      <td>400</td>\n    </tr>\n    <tr>\n      <th>3</th>\n      <td>d</td>\n      <td>200</td>\n    </tr>\n    <tr>\n      <th>4</th>\n      <td>e</td>\n      <td>700</td>\n    </tr>\n  </tbody>\n</table>\n</div>"
     },
     "metadata": {},
     "execution_count": 21
    }
   ],
   "source": [
    "df = pd.read_csv(\"tempDB.csv\")\n",
    "df.head()"
   ]
  },
  {
   "cell_type": "code",
   "execution_count": 22,
   "metadata": {},
   "outputs": [],
   "source": [
    "def getDB():\n",
    "    df = pd.read_csv(\"tempDB.csv\")\n",
    "    df.head()\n",
    "    return df"
   ]
  },
  {
   "cell_type": "code",
   "execution_count": 23,
   "metadata": {},
   "outputs": [],
   "source": [
    "class BalanceSearchRequest:\n",
    "    def __init__(self, userID):\n",
    "        self.userID = userID\n",
    "\n",
    "class ReloadRequest(BalanceSearchRequest):\n",
    "    def __init__(self, userID, amount=0):\n",
    "        self.userID =userID\n",
    "        self.amount = amount\n",
    "    \n",
    "    def update(self, amount = 0):\n",
    "        self.amount = amount\n",
    "\n",
    "class MONEY:\n",
    "    def __init__(self):\n",
    "        self.amount = None\n",
    "    def create(self, amount):\n",
    "        self.amount = amount\n",
    "        print(\"Amount set: {}\".format(self.amount))\n",
    "    def update(self,amount):\n",
    "        print(\"Before: {}\".format(self.amount))\n",
    "        self.amount += amount\n",
    "        print(\"After: {}\".format(self.amount))\n",
    "        "
   ]
  },
  {
   "cell_type": "code",
   "execution_count": 24,
   "metadata": {},
   "outputs": [],
   "source": [
    "class BalanceCheckConnection:\n",
    "    def __init__(self, BSrequest, money):\n",
    "        self.BSrequest = BSrequest\n",
    "        self.money = money\n",
    "\n",
    "    def getBalance(self):\n",
    "        df = getDB()\n",
    "        userID = self.BSrequest.userID\n",
    "        amount = df[df[\"UserID\"] == userID][\"Balance\"].values[0]\n",
    "        self.money.create(amount)"
   ]
  },
  {
   "cell_type": "code",
   "execution_count": 25,
   "metadata": {},
   "outputs": [],
   "source": [
    "class ReloadConnection:\n",
    "    def __init__(self, Rrequest, money):\n",
    "        self.Rrequest = Rrequest\n",
    "        self.money = money\n",
    "\n",
    "    def reloadBalance(self):\n",
    "        df = getDB()\n",
    "        userID = self.Rrequest.userID\n",
    "        amount = self.Rrequest.amount\n",
    "        # print(\"userID = {} amount = {}\".format(userID, amount))\n",
    "        newBalance = df[df[\"UserID\"] == userID][\"Balance\"].values[0] + amount\n",
    "        df[df[\"UserID\"]==userID] = newBalance\n",
    "        # print(newBalance)\n",
    "        self.money.update(amount)"
   ]
  },
  {
   "cell_type": "code",
   "execution_count": 26,
   "metadata": {},
   "outputs": [
    {
     "output_type": "stream",
     "name": "stdout",
     "text": [
      "Amount set: 1000\nBefore: 1000\nAfter: 1500\nBefore: 1500\nAfter: 3000\n"
     ]
    }
   ],
   "source": [
    "bcrequest = BalanceSearchRequest(\"a\")\n",
    "rrequest = ReloadRequest(\"a\", 500)\n",
    "\n",
    "money = MONEY()\n",
    "bcconnection = BalanceCheckConnection(bcrequest, money)\n",
    "\n",
    "bcconnection.getBalance()\n",
    "\n",
    "rrconnection = ReloadConnection(rrequest, money)\n",
    "\n",
    "rrconnection.reloadBalance()\n",
    "\n",
    "rrequest.update(1500)\n",
    "\n",
    "rrconnection.reloadBalance()"
   ]
  },
  {
   "cell_type": "code",
   "execution_count": null,
   "metadata": {},
   "outputs": [],
   "source": []
  }
 ]
}